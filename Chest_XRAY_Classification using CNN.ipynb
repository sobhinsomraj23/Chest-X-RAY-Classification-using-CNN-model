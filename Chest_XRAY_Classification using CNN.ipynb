{
 "cells": [
  {
   "cell_type": "code",
   "execution_count": 1,
   "metadata": {
    "colab": {
     "base_uri": "https://localhost:8080/"
    },
    "id": "3YHuX-dNTA1i",
    "outputId": "bdce8d96-f606-4c43-a13d-c4a45e342299"
   },
   "outputs": [],
   "source": [
    "import os"
   ]
  },
  {
   "cell_type": "code",
   "execution_count": 2,
   "metadata": {
    "scrolled": true
   },
   "outputs": [],
   "source": [
    "#!pip install opencv-python"
   ]
  },
  {
   "cell_type": "code",
   "execution_count": 3,
   "metadata": {},
   "outputs": [
    {
     "data": {
      "text/plain": [
       "['COVID-1.png',\n",
       " 'COVID-10.png',\n",
       " 'COVID-100.png',\n",
       " 'COVID-11.png',\n",
       " 'COVID-12.png',\n",
       " 'COVID-13.png',\n",
       " 'COVID-14.png',\n",
       " 'COVID-15.png',\n",
       " 'COVID-16.png',\n",
       " 'COVID-17.png',\n",
       " 'COVID-18.png',\n",
       " 'COVID-19.png',\n",
       " 'COVID-2.png',\n",
       " 'COVID-20.png',\n",
       " 'COVID-21.png',\n",
       " 'COVID-22.png',\n",
       " 'COVID-23.png',\n",
       " 'COVID-24.png',\n",
       " 'COVID-25.png',\n",
       " 'COVID-26.png',\n",
       " 'COVID-27.png',\n",
       " 'COVID-28.png',\n",
       " 'COVID-29.png',\n",
       " 'COVID-3.png',\n",
       " 'COVID-30.png',\n",
       " 'COVID-31.png',\n",
       " 'COVID-32.png',\n",
       " 'COVID-33.png',\n",
       " 'COVID-34.png',\n",
       " 'COVID-35.png',\n",
       " 'COVID-36.png',\n",
       " 'COVID-37.png',\n",
       " 'COVID-38.png',\n",
       " 'COVID-39.png',\n",
       " 'COVID-4.png',\n",
       " 'COVID-40.png',\n",
       " 'COVID-41.png',\n",
       " 'COVID-42.png',\n",
       " 'COVID-43.png',\n",
       " 'COVID-44.png',\n",
       " 'COVID-45.png',\n",
       " 'COVID-46.png',\n",
       " 'COVID-47.png',\n",
       " 'COVID-48.png',\n",
       " 'COVID-49.png',\n",
       " 'COVID-5.png',\n",
       " 'COVID-50.png',\n",
       " 'COVID-51.png',\n",
       " 'COVID-52.png',\n",
       " 'COVID-53.png',\n",
       " 'COVID-54.png',\n",
       " 'COVID-55.png',\n",
       " 'COVID-56.png',\n",
       " 'COVID-57.png',\n",
       " 'COVID-58.png',\n",
       " 'COVID-59.png',\n",
       " 'COVID-6.png',\n",
       " 'COVID-60.png',\n",
       " 'COVID-61.png',\n",
       " 'COVID-62.png',\n",
       " 'COVID-63.png',\n",
       " 'COVID-64.png',\n",
       " 'COVID-65.png',\n",
       " 'COVID-66.png',\n",
       " 'COVID-67.png',\n",
       " 'COVID-68.png',\n",
       " 'COVID-69.png',\n",
       " 'COVID-7.png',\n",
       " 'COVID-70.png',\n",
       " 'COVID-71.png',\n",
       " 'COVID-72.png',\n",
       " 'COVID-73.png',\n",
       " 'COVID-74.png',\n",
       " 'COVID-75.png',\n",
       " 'COVID-76.png',\n",
       " 'COVID-77.png',\n",
       " 'COVID-78.png',\n",
       " 'COVID-79.png',\n",
       " 'COVID-8.png',\n",
       " 'COVID-80.png',\n",
       " 'COVID-81.png',\n",
       " 'COVID-82.png',\n",
       " 'COVID-83.png',\n",
       " 'COVID-84.png',\n",
       " 'COVID-85.png',\n",
       " 'COVID-86.png',\n",
       " 'COVID-87.png',\n",
       " 'COVID-88.png',\n",
       " 'COVID-89.png',\n",
       " 'COVID-9.png',\n",
       " 'COVID-90.png',\n",
       " 'COVID-91.png',\n",
       " 'COVID-92.png',\n",
       " 'COVID-93.png',\n",
       " 'COVID-94.png',\n",
       " 'COVID-95.png',\n",
       " 'COVID-96.png',\n",
       " 'COVID-97.png',\n",
       " 'COVID-98.png',\n",
       " 'COVID-99.png']"
      ]
     },
     "execution_count": 3,
     "metadata": {},
     "output_type": "execute_result"
    }
   ],
   "source": [
    "os.listdir('COVID-19_Radiography_Dataset/COVID/images')"
   ]
  },
  {
   "cell_type": "code",
   "execution_count": 4,
   "metadata": {},
   "outputs": [
    {
     "data": {
      "text/plain": [
       "100"
      ]
     },
     "execution_count": 4,
     "metadata": {},
     "output_type": "execute_result"
    }
   ],
   "source": [
    "len(os.listdir('COVID-19_Radiography_Dataset/COVID/images'))"
   ]
  },
  {
   "cell_type": "code",
   "execution_count": 5,
   "metadata": {
    "colab": {
     "base_uri": "https://localhost:8080/"
    },
    "id": "u7P3GhjYk4oF",
    "outputId": "9763805f-b166-47bc-8718-7a1df4d5d933"
   },
   "outputs": [
    {
     "data": {
      "text/plain": [
       "['Normal-1.png',\n",
       " 'Normal-10.png',\n",
       " 'Normal-100.png',\n",
       " 'Normal-11.png',\n",
       " 'Normal-12.png',\n",
       " 'Normal-13.png',\n",
       " 'Normal-14.png',\n",
       " 'Normal-15.png',\n",
       " 'Normal-16.png',\n",
       " 'Normal-17.png',\n",
       " 'Normal-18.png',\n",
       " 'Normal-19.png',\n",
       " 'Normal-2.png',\n",
       " 'Normal-20.png',\n",
       " 'Normal-21.png',\n",
       " 'Normal-22.png',\n",
       " 'Normal-23.png',\n",
       " 'Normal-24.png',\n",
       " 'Normal-25.png',\n",
       " 'Normal-26.png',\n",
       " 'Normal-27.png',\n",
       " 'Normal-28.png',\n",
       " 'Normal-29.png',\n",
       " 'Normal-3.png',\n",
       " 'Normal-30.png',\n",
       " 'Normal-31.png',\n",
       " 'Normal-32.png',\n",
       " 'Normal-33.png',\n",
       " 'Normal-34.png',\n",
       " 'Normal-35.png',\n",
       " 'Normal-36.png',\n",
       " 'Normal-37.png',\n",
       " 'Normal-38.png',\n",
       " 'Normal-39.png',\n",
       " 'Normal-4.png',\n",
       " 'Normal-40.png',\n",
       " 'Normal-41.png',\n",
       " 'Normal-42.png',\n",
       " 'Normal-43.png',\n",
       " 'Normal-44.png',\n",
       " 'Normal-45.png',\n",
       " 'Normal-46.png',\n",
       " 'Normal-47.png',\n",
       " 'Normal-48.png',\n",
       " 'Normal-49.png',\n",
       " 'Normal-5.png',\n",
       " 'Normal-50.png',\n",
       " 'Normal-51.png',\n",
       " 'Normal-52.png',\n",
       " 'Normal-53.png',\n",
       " 'Normal-54.png',\n",
       " 'Normal-55.png',\n",
       " 'Normal-56.png',\n",
       " 'Normal-57.png',\n",
       " 'Normal-58.png',\n",
       " 'Normal-59.png',\n",
       " 'Normal-6.png',\n",
       " 'Normal-60.png',\n",
       " 'Normal-61.png',\n",
       " 'Normal-62.png',\n",
       " 'Normal-63.png',\n",
       " 'Normal-64.png',\n",
       " 'Normal-65.png',\n",
       " 'Normal-66.png',\n",
       " 'Normal-67.png',\n",
       " 'Normal-68.png',\n",
       " 'Normal-69.png',\n",
       " 'Normal-7.png',\n",
       " 'Normal-70.png',\n",
       " 'Normal-71.png',\n",
       " 'Normal-72.png',\n",
       " 'Normal-73.png',\n",
       " 'Normal-74.png',\n",
       " 'Normal-75.png',\n",
       " 'Normal-76.png',\n",
       " 'Normal-77.png',\n",
       " 'Normal-78.png',\n",
       " 'Normal-79.png',\n",
       " 'Normal-8.png',\n",
       " 'Normal-80.png',\n",
       " 'Normal-81.png',\n",
       " 'Normal-82.png',\n",
       " 'Normal-83.png',\n",
       " 'Normal-84.png',\n",
       " 'Normal-85.png',\n",
       " 'Normal-86.png',\n",
       " 'Normal-87.png',\n",
       " 'Normal-88.png',\n",
       " 'Normal-89.png',\n",
       " 'Normal-9.png',\n",
       " 'Normal-90.png',\n",
       " 'Normal-91.png',\n",
       " 'Normal-92.png',\n",
       " 'Normal-93.png',\n",
       " 'Normal-94.png',\n",
       " 'Normal-95.png',\n",
       " 'Normal-96.png',\n",
       " 'Normal-97.png',\n",
       " 'Normal-98.png',\n",
       " 'Normal-99.png']"
      ]
     },
     "execution_count": 5,
     "metadata": {},
     "output_type": "execute_result"
    }
   ],
   "source": [
    "os.listdir('COVID-19_Radiography_Dataset/Normal/images')"
   ]
  },
  {
   "cell_type": "code",
   "execution_count": 6,
   "metadata": {
    "colab": {
     "base_uri": "https://localhost:8080/"
    },
    "id": "Jo2VDCX0op81",
    "outputId": "7bbc5a25-52d7-4e6a-cd56-d37952fd2a7b"
   },
   "outputs": [
    {
     "data": {
      "text/plain": [
       "100"
      ]
     },
     "execution_count": 6,
     "metadata": {},
     "output_type": "execute_result"
    }
   ],
   "source": [
    "len(os.listdir('COVID-19_Radiography_Dataset/Normal/images'))"
   ]
  },
  {
   "cell_type": "code",
   "execution_count": 7,
   "metadata": {
    "id": "ZM8ZlC8po4W0"
   },
   "outputs": [],
   "source": [
    "import cv2\n",
    "img=cv2.imread(\"COVID-19_Radiography_Dataset/Normal/images/Normal-10.png\")"
   ]
  },
  {
   "cell_type": "code",
   "execution_count": 8,
   "metadata": {
    "colab": {
     "base_uri": "https://localhost:8080/",
     "height": 452
    },
    "id": "wNMevByZrD44",
    "outputId": "2e7796aa-891e-497a-a8da-1f09703b8dd0"
   },
   "outputs": [
    {
     "data": {
      "text/plain": [
       "<matplotlib.image.AxesImage at 0x25c6f1be790>"
      ]
     },
     "execution_count": 8,
     "metadata": {},
     "output_type": "execute_result"
    },
    {
     "data": {
      "image/png": "[encoded data removed]",
      "text/plain": [
       "<Figure size 640x480 with 1 Axes>"
      ]
     },
     "metadata": {},
     "output_type": "display_data"
    }
   ],
   "source": [
    "import matplotlib.pyplot as plt\n",
    "plt.imshow(img)"
   ]
  },
  {
   "cell_type": "code",
   "execution_count": 9,
   "metadata": {
    "colab": {
     "base_uri": "https://localhost:8080/"
    },
    "id": "dCPPMlgYrZbt",
    "outputId": "5b1a48cf-3faf-47fd-fb99-a5ce7a18ad82"
   },
   "outputs": [
    {
     "data": {
      "text/plain": [
       "(299, 299, 3)"
      ]
     },
     "execution_count": 9,
     "metadata": {},
     "output_type": "execute_result"
    }
   ],
   "source": [
    "img.shape"
   ]
  },
  {
   "cell_type": "code",
   "execution_count": 10,
   "metadata": {
    "id": "xAHSjxm4sYC7"
   },
   "outputs": [],
   "source": [
    "import pandas as pd\n",
    "import numpy as np"
   ]
  },
  {
   "cell_type": "code",
   "execution_count": 11,
   "metadata": {
    "colab": {
     "base_uri": "https://localhost:8080/",
     "height": 423
    },
    "id": "Rt46i_CwucEb",
    "outputId": "1215d29d-2df7-4cfd-b9f3-3336e94a1a88"
   },
   "outputs": [
    {
     "data": {
      "text/html": [
       "<div>\n",
       "<style scoped>\n",
       "    .dataframe tbody tr th:only-of-type {\n",
       "        vertical-align: middle;\n",
       "    }\n",
       "\n",
       "    .dataframe tbody tr th {\n",
       "        vertical-align: top;\n",
       "    }\n",
       "\n",
       "    .dataframe thead th {\n",
       "        text-align: right;\n",
       "    }\n",
       "</style>\n",
       "<table border=\"1\" class=\"dataframe\">\n",
       "  <thead>\n",
       "    <tr style=\"text-align: right;\">\n",
       "      <th></th>\n",
       "      <th>FILE NAME</th>\n",
       "      <th>FORMAT</th>\n",
       "      <th>SIZE</th>\n",
       "      <th>URL</th>\n",
       "    </tr>\n",
       "  </thead>\n",
       "  <tbody>\n",
       "    <tr>\n",
       "      <th>0</th>\n",
       "      <td>COVID-1</td>\n",
       "      <td>PNG</td>\n",
       "      <td>256*256</td>\n",
       "      <td>https://sirm.org/category/senza-categoria/covi...</td>\n",
       "    </tr>\n",
       "    <tr>\n",
       "      <th>1</th>\n",
       "      <td>COVID-2</td>\n",
       "      <td>PNG</td>\n",
       "      <td>256*256</td>\n",
       "      <td>https://sirm.org/category/senza-categoria/covi...</td>\n",
       "    </tr>\n",
       "    <tr>\n",
       "      <th>2</th>\n",
       "      <td>COVID-3</td>\n",
       "      <td>PNG</td>\n",
       "      <td>256*256</td>\n",
       "      <td>https://sirm.org/category/senza-categoria/covi...</td>\n",
       "    </tr>\n",
       "    <tr>\n",
       "      <th>3</th>\n",
       "      <td>COVID-4</td>\n",
       "      <td>PNG</td>\n",
       "      <td>256*256</td>\n",
       "      <td>https://sirm.org/category/senza-categoria/covi...</td>\n",
       "    </tr>\n",
       "    <tr>\n",
       "      <th>4</th>\n",
       "      <td>COVID-5</td>\n",
       "      <td>PNG</td>\n",
       "      <td>256*256</td>\n",
       "      <td>https://sirm.org/category/senza-categoria/covi...</td>\n",
       "    </tr>\n",
       "    <tr>\n",
       "      <th>...</th>\n",
       "      <td>...</td>\n",
       "      <td>...</td>\n",
       "      <td>...</td>\n",
       "      <td>...</td>\n",
       "    </tr>\n",
       "    <tr>\n",
       "      <th>94</th>\n",
       "      <td>COVID-95</td>\n",
       "      <td>PNG</td>\n",
       "      <td>256*256</td>\n",
       "      <td>https://sirm.org/category/senza-categoria/covi...</td>\n",
       "    </tr>\n",
       "    <tr>\n",
       "      <th>95</th>\n",
       "      <td>COVID-96</td>\n",
       "      <td>PNG</td>\n",
       "      <td>256*256</td>\n",
       "      <td>https://sirm.org/category/senza-categoria/covi...</td>\n",
       "    </tr>\n",
       "    <tr>\n",
       "      <th>96</th>\n",
       "      <td>COVID-97</td>\n",
       "      <td>PNG</td>\n",
       "      <td>256*256</td>\n",
       "      <td>https://sirm.org/category/senza-categoria/covi...</td>\n",
       "    </tr>\n",
       "    <tr>\n",
       "      <th>97</th>\n",
       "      <td>COVID-98</td>\n",
       "      <td>PNG</td>\n",
       "      <td>256*256</td>\n",
       "      <td>https://sirm.org/category/senza-categoria/covi...</td>\n",
       "    </tr>\n",
       "    <tr>\n",
       "      <th>98</th>\n",
       "      <td>COVID-99</td>\n",
       "      <td>PNG</td>\n",
       "      <td>256*256</td>\n",
       "      <td>https://sirm.org/category/senza-categoria/covi...</td>\n",
       "    </tr>\n",
       "  </tbody>\n",
       "</table>\n",
       "<p>99 rows × 4 columns</p>\n",
       "</div>"
      ],
      "text/plain": [
       "   FILE NAME FORMAT     SIZE  \\\n",
       "0    COVID-1    PNG  256*256   \n",
       "1    COVID-2    PNG  256*256   \n",
       "2    COVID-3    PNG  256*256   \n",
       "3    COVID-4    PNG  256*256   \n",
       "4    COVID-5    PNG  256*256   \n",
       "..       ...    ...      ...   \n",
       "94  COVID-95    PNG  256*256   \n",
       "95  COVID-96    PNG  256*256   \n",
       "96  COVID-97    PNG  256*256   \n",
       "97  COVID-98    PNG  256*256   \n",
       "98  COVID-99    PNG  256*256   \n",
       "\n",
       "                                                  URL  \n",
       "0   https://sirm.org/category/senza-categoria/covi...  \n",
       "1   https://sirm.org/category/senza-categoria/covi...  \n",
       "2   https://sirm.org/category/senza-categoria/covi...  \n",
       "3   https://sirm.org/category/senza-categoria/covi...  \n",
       "4   https://sirm.org/category/senza-categoria/covi...  \n",
       "..                                                ...  \n",
       "94  https://sirm.org/category/senza-categoria/covi...  \n",
       "95  https://sirm.org/category/senza-categoria/covi...  \n",
       "96  https://sirm.org/category/senza-categoria/covi...  \n",
       "97  https://sirm.org/category/senza-categoria/covi...  \n",
       "98  https://sirm.org/category/senza-categoria/covi...  \n",
       "\n",
       "[99 rows x 4 columns]"
      ]
     },
     "execution_count": 11,
     "metadata": {},
     "output_type": "execute_result"
    }
   ],
   "source": [
    "df=pd.read_excel('COVID-19_Radiography_Dataset/COVID.metadata.xlsx')\n",
    "df"
   ]
  },
  {
   "cell_type": "code",
   "execution_count": 12,
   "metadata": {
    "colab": {
     "base_uri": "https://localhost:8080/",
     "height": 206
    },
    "id": "Uko3XcoNucGM",
    "outputId": "a4ddf701-b1c4-4d80-f939-f5a317814985"
   },
   "outputs": [
    {
     "data": {
      "text/html": [
       "<div>\n",
       "<style scoped>\n",
       "    .dataframe tbody tr th:only-of-type {\n",
       "        vertical-align: middle;\n",
       "    }\n",
       "\n",
       "    .dataframe tbody tr th {\n",
       "        vertical-align: top;\n",
       "    }\n",
       "\n",
       "    .dataframe thead th {\n",
       "        text-align: right;\n",
       "    }\n",
       "</style>\n",
       "<table border=\"1\" class=\"dataframe\">\n",
       "  <thead>\n",
       "    <tr style=\"text-align: right;\">\n",
       "      <th></th>\n",
       "      <th>FILE NAME</th>\n",
       "      <th>FORMAT</th>\n",
       "      <th>SIZE</th>\n",
       "      <th>URL</th>\n",
       "    </tr>\n",
       "  </thead>\n",
       "  <tbody>\n",
       "    <tr>\n",
       "      <th>0</th>\n",
       "      <td>COVID-1</td>\n",
       "      <td>PNG</td>\n",
       "      <td>256*256</td>\n",
       "      <td>https://sirm.org/category/senza-categoria/covi...</td>\n",
       "    </tr>\n",
       "    <tr>\n",
       "      <th>1</th>\n",
       "      <td>COVID-2</td>\n",
       "      <td>PNG</td>\n",
       "      <td>256*256</td>\n",
       "      <td>https://sirm.org/category/senza-categoria/covi...</td>\n",
       "    </tr>\n",
       "    <tr>\n",
       "      <th>2</th>\n",
       "      <td>COVID-3</td>\n",
       "      <td>PNG</td>\n",
       "      <td>256*256</td>\n",
       "      <td>https://sirm.org/category/senza-categoria/covi...</td>\n",
       "    </tr>\n",
       "    <tr>\n",
       "      <th>3</th>\n",
       "      <td>COVID-4</td>\n",
       "      <td>PNG</td>\n",
       "      <td>256*256</td>\n",
       "      <td>https://sirm.org/category/senza-categoria/covi...</td>\n",
       "    </tr>\n",
       "    <tr>\n",
       "      <th>4</th>\n",
       "      <td>COVID-5</td>\n",
       "      <td>PNG</td>\n",
       "      <td>256*256</td>\n",
       "      <td>https://sirm.org/category/senza-categoria/covi...</td>\n",
       "    </tr>\n",
       "  </tbody>\n",
       "</table>\n",
       "</div>"
      ],
      "text/plain": [
       "  FILE NAME FORMAT     SIZE                                                URL\n",
       "0   COVID-1    PNG  256*256  https://sirm.org/category/senza-categoria/covi...\n",
       "1   COVID-2    PNG  256*256  https://sirm.org/category/senza-categoria/covi...\n",
       "2   COVID-3    PNG  256*256  https://sirm.org/category/senza-categoria/covi...\n",
       "3   COVID-4    PNG  256*256  https://sirm.org/category/senza-categoria/covi...\n",
       "4   COVID-5    PNG  256*256  https://sirm.org/category/senza-categoria/covi..."
      ]
     },
     "execution_count": 12,
     "metadata": {},
     "output_type": "execute_result"
    }
   ],
   "source": [
    "df.head()"
   ]
  },
  {
   "cell_type": "code",
   "execution_count": 13,
   "metadata": {},
   "outputs": [
    {
     "data": {
      "text/html": [
       "<div>\n",
       "<style scoped>\n",
       "    .dataframe tbody tr th:only-of-type {\n",
       "        vertical-align: middle;\n",
       "    }\n",
       "\n",
       "    .dataframe tbody tr th {\n",
       "        vertical-align: top;\n",
       "    }\n",
       "\n",
       "    .dataframe thead th {\n",
       "        text-align: right;\n",
       "    }\n",
       "</style>\n",
       "<table border=\"1\" class=\"dataframe\">\n",
       "  <thead>\n",
       "    <tr style=\"text-align: right;\">\n",
       "      <th></th>\n",
       "      <th>FILE NAME</th>\n",
       "      <th>FORMAT</th>\n",
       "      <th>SIZE</th>\n",
       "      <th>URL</th>\n",
       "    </tr>\n",
       "  </thead>\n",
       "  <tbody>\n",
       "    <tr>\n",
       "      <th>94</th>\n",
       "      <td>COVID-95</td>\n",
       "      <td>PNG</td>\n",
       "      <td>256*256</td>\n",
       "      <td>https://sirm.org/category/senza-categoria/covi...</td>\n",
       "    </tr>\n",
       "    <tr>\n",
       "      <th>95</th>\n",
       "      <td>COVID-96</td>\n",
       "      <td>PNG</td>\n",
       "      <td>256*256</td>\n",
       "      <td>https://sirm.org/category/senza-categoria/covi...</td>\n",
       "    </tr>\n",
       "    <tr>\n",
       "      <th>96</th>\n",
       "      <td>COVID-97</td>\n",
       "      <td>PNG</td>\n",
       "      <td>256*256</td>\n",
       "      <td>https://sirm.org/category/senza-categoria/covi...</td>\n",
       "    </tr>\n",
       "    <tr>\n",
       "      <th>97</th>\n",
       "      <td>COVID-98</td>\n",
       "      <td>PNG</td>\n",
       "      <td>256*256</td>\n",
       "      <td>https://sirm.org/category/senza-categoria/covi...</td>\n",
       "    </tr>\n",
       "    <tr>\n",
       "      <th>98</th>\n",
       "      <td>COVID-99</td>\n",
       "      <td>PNG</td>\n",
       "      <td>256*256</td>\n",
       "      <td>https://sirm.org/category/senza-categoria/covi...</td>\n",
       "    </tr>\n",
       "  </tbody>\n",
       "</table>\n",
       "</div>"
      ],
      "text/plain": [
       "   FILE NAME FORMAT     SIZE  \\\n",
       "94  COVID-95    PNG  256*256   \n",
       "95  COVID-96    PNG  256*256   \n",
       "96  COVID-97    PNG  256*256   \n",
       "97  COVID-98    PNG  256*256   \n",
       "98  COVID-99    PNG  256*256   \n",
       "\n",
       "                                                  URL  \n",
       "94  https://sirm.org/category/senza-categoria/covi...  \n",
       "95  https://sirm.org/category/senza-categoria/covi...  \n",
       "96  https://sirm.org/category/senza-categoria/covi...  \n",
       "97  https://sirm.org/category/senza-categoria/covi...  \n",
       "98  https://sirm.org/category/senza-categoria/covi...  "
      ]
     },
     "execution_count": 13,
     "metadata": {},
     "output_type": "execute_result"
    }
   ],
   "source": [
    "df.tail()"
   ]
  },
  {
   "cell_type": "code",
   "execution_count": 14,
   "metadata": {
    "id": "umlaQ4t_ye_f"
   },
   "outputs": [],
   "source": [
    "urls=os.listdir('COVID-19_Radiography_Dataset/COVID/images')"
   ]
  },
  {
   "cell_type": "code",
   "execution_count": 15,
   "metadata": {
    "id": "jpxwnv1GzhTP"
   },
   "outputs": [],
   "source": [
    "path=\"COVID-19_Radiography_Dataset/COVID/images\" +\"/\"+ urls[0]"
   ]
  },
  {
   "cell_type": "code",
   "execution_count": 16,
   "metadata": {
    "colab": {
     "base_uri": "https://localhost:8080/",
     "height": 35
    },
    "id": "fZMLxivTz0zs",
    "outputId": "9c8a5900-95bb-4fb7-dd6f-e4086963f3c5"
   },
   "outputs": [
    {
     "data": {
      "text/plain": [
       "'COVID-19_Radiography_Dataset/COVID/images/COVID-1.png'"
      ]
     },
     "execution_count": 16,
     "metadata": {},
     "output_type": "execute_result"
    }
   ],
   "source": [
    "path"
   ]
  },
  {
   "cell_type": "code",
   "execution_count": 17,
   "metadata": {
    "id": "Mihu_uNDucJr"
   },
   "outputs": [],
   "source": [
    "def loadImages(path,urls, target):\n",
    "  images=[]\n",
    "  labels=[]\n",
    "  for i in range(len(urls)):\n",
    "    image_path=path+\"/\"+urls[i]\n",
    "    img=cv2.imread(image_path)\n",
    "    img=img/255.0\n",
    "    #cv2.resize(img,(100,100))\n",
    "    images.append(img)\n",
    "    labels.append(target)\n",
    "  images=np.asarray(images)\n",
    "  return images, labels"
   ]
  },
  {
   "cell_type": "code",
   "execution_count": 44,
   "metadata": {
    "id": "wcH8NTnO8fI_"
   },
   "outputs": [],
   "source": [
    "covidPath=\"COVID-19_Radiography_Dataset/COVID/images\"\n",
    "covidURL=os.listdir(covidPath)\n",
    "covidImages, covidTargets = loadImages(covidPath,covidURL, 1)"
   ]
  },
  {
   "cell_type": "code",
   "execution_count": 45,
   "metadata": {},
   "outputs": [
    {
     "data": {
      "text/plain": [
       "(100, 100, 100)"
      ]
     },
     "execution_count": 45,
     "metadata": {},
     "output_type": "execute_result"
    }
   ],
   "source": [
    "len(covidURL),len(covidTargets),len(covidImages)"
   ]
  },
  {
   "cell_type": "code",
   "execution_count": 46,
   "metadata": {
    "id": "Cd9EpYFy9E3r"
   },
   "outputs": [],
   "source": [
    "normalPath=\"COVID-19_Radiography_Dataset/Normal/images\"\n",
    "normalUrls=os.listdir(normalPath)\n",
    "normalImages, normalTargets= loadImages(normalPath,normalUrls, 0)"
   ]
  },
  {
   "cell_type": "code",
   "execution_count": 47,
   "metadata": {},
   "outputs": [
    {
     "data": {
      "text/plain": [
       "(100, 100, 100)"
      ]
     },
     "execution_count": 47,
     "metadata": {},
     "output_type": "execute_result"
    }
   ],
   "source": [
    "len(normalUrls),len(normalTargets),len(normalImages)"
   ]
  },
  {
   "cell_type": "code",
   "execution_count": 48,
   "metadata": {
    "id": "PFCMOEyw-rcP"
   },
   "outputs": [],
   "source": [
    "covidImages=np.asarray(covidImages)\n",
    "normalImages=np.asarray(normalImages)"
   ]
  },
  {
   "cell_type": "code",
   "execution_count": 49,
   "metadata": {
    "id": "-ZKcSkKH-8EN"
   },
   "outputs": [
    {
     "data": {
      "text/plain": [
       "(100, 299, 299, 3)"
      ]
     },
     "execution_count": 49,
     "metadata": {},
     "output_type": "execute_result"
    }
   ],
   "source": [
    "covidImages.shape"
   ]
  },
  {
   "cell_type": "code",
   "execution_count": 50,
   "metadata": {
    "id": "Mw5q51uz_UxC"
   },
   "outputs": [
    {
     "data": {
      "text/plain": [
       "(100, 299, 299, 3)"
      ]
     },
     "execution_count": 50,
     "metadata": {},
     "output_type": "execute_result"
    }
   ],
   "source": [
    "normalImages.shape"
   ]
  },
  {
   "cell_type": "code",
   "execution_count": 51,
   "metadata": {
    "id": "SwYZPV1RAgZ8"
   },
   "outputs": [
    {
     "data": {
      "text/plain": [
       "(200, 299, 299, 3)"
      ]
     },
     "execution_count": 51,
     "metadata": {},
     "output_type": "execute_result"
    }
   ],
   "source": [
    "data=np.r_[covidImages,normalImages]\n",
    "data.shape"
   ]
  },
  {
   "cell_type": "code",
   "execution_count": 52,
   "metadata": {
    "id": "-tzDwKaEo7s9"
   },
   "outputs": [
    {
     "data": {
      "text/plain": [
       "(200,)"
      ]
     },
     "execution_count": 52,
     "metadata": {},
     "output_type": "execute_result"
    }
   ],
   "source": [
    "targets=np.r_[covidTargets,normalTargets]\n",
    "targets.shape"
   ]
  },
  {
   "cell_type": "code",
   "execution_count": 53,
   "metadata": {
    "colab": {
     "background_save": true
    },
    "id": "0mYbkw2ppQ7f",
    "outputId": "afa55c03-62a5-4574-d926-115ccb70726d"
   },
   "outputs": [],
   "source": [
    "from sklearn.model_selection import train_test_split"
   ]
  },
  {
   "cell_type": "code",
   "execution_count": 54,
   "metadata": {},
   "outputs": [],
   "source": [
    "X_test,X_train,Y_test,Y_train = train_test_split(data, targets, test_size=0.25)"
   ]
  },
  {
   "cell_type": "code",
   "execution_count": 55,
   "metadata": {},
   "outputs": [],
   "source": [
    "import tensorflow as tf"
   ]
  },
  {
   "cell_type": "code",
   "execution_count": 56,
   "metadata": {},
   "outputs": [],
   "source": [
    "from tensorflow.keras.models import Sequential"
   ]
  },
  {
   "cell_type": "code",
   "execution_count": 57,
   "metadata": {},
   "outputs": [],
   "source": [
    "from tensorflow.keras.layers import Conv2D, MaxPooling2D, Flatten, Dense, GlobalAveragePooling2D"
   ]
  },
  {
   "cell_type": "code",
   "execution_count": 58,
   "metadata": {},
   "outputs": [],
   "source": [
    "model=Sequential([\n",
    "    Conv2D(32,3,input_shape=(299,299,3), activation='relu'), \n",
    "    MaxPooling2D(),\n",
    "    Conv2D(16,3,activation ='relu'),\n",
    "    MaxPooling2D(),\n",
    "    Conv2D(16,3, activation='relu'),\n",
    "    MaxPooling2D(),\n",
    "    Flatten(),\n",
    "    Dense(512,activation='relu'),\n",
    "    Dense(256,activation='relu'),\n",
    "    Dense(1,activation='sigmoid')\n",
    "])"
   ]
  },
  {
   "cell_type": "code",
   "execution_count": 59,
   "metadata": {},
   "outputs": [
    {
     "name": "stdout",
     "output_type": "stream",
     "text": [
      "Model: \"sequential_2\"\n",
      "_________________________________________________________________\n",
      " Layer (type)                Output Shape              Param #   \n",
      "=================================================================\n",
      " conv2d_6 (Conv2D)           (None, 297, 297, 32)      896       \n",
      "                                                                 \n",
      " max_pooling2d_6 (MaxPooling  (None, 148, 148, 32)     0         \n",
      " 2D)                                                             \n",
      "                                                                 \n",
      " conv2d_7 (Conv2D)           (None, 146, 146, 16)      4624      \n",
      "                                                                 \n",
      " max_pooling2d_7 (MaxPooling  (None, 73, 73, 16)       0         \n",
      " 2D)                                                             \n",
      "                                                                 \n",
      " conv2d_8 (Conv2D)           (None, 71, 71, 16)        2320      \n",
      "                                                                 \n",
      " max_pooling2d_8 (MaxPooling  (None, 35, 35, 16)       0         \n",
      " 2D)                                                             \n",
      "                                                                 \n",
      " flatten_4 (Flatten)         (None, 19600)             0         \n",
      "                                                                 \n",
      " dense_5 (Dense)             (None, 512)               10035712  \n",
      "                                                                 \n",
      " dense_6 (Dense)             (None, 256)               131328    \n",
      "                                                                 \n",
      " dense_7 (Dense)             (None, 1)                 257       \n",
      "                                                                 \n",
      "=================================================================\n",
      "Total params: 10,175,137\n",
      "Trainable params: 10,175,137\n",
      "Non-trainable params: 0\n",
      "_________________________________________________________________\n"
     ]
    }
   ],
   "source": [
    "model.summary()"
   ]
  },
  {
   "cell_type": "code",
   "execution_count": 64,
   "metadata": {},
   "outputs": [],
   "source": [
    "model.compile(optimizer='adam',loss=tf.keras.losses.BinaryCrossentropy(),metrics=['accuracy'])"
   ]
  },
  {
   "cell_type": "code",
   "execution_count": 65,
   "metadata": {},
   "outputs": [
    {
     "name": "stdout",
     "output_type": "stream",
     "text": [
      "Epoch 1/5\n",
      "2/2 [==============================] - 21s 14s/step - loss: 0.6924 - accuracy: 0.5200 - val_loss: 0.6731 - val_accuracy: 0.5800\n",
      "Epoch 2/5\n",
      "2/2 [==============================] - 3s 2s/step - loss: 0.6609 - accuracy: 0.6200 - val_loss: 0.6798 - val_accuracy: 0.5067\n",
      "Epoch 3/5\n",
      "2/2 [==============================] - 3s 2s/step - loss: 0.6635 - accuracy: 0.4800 - val_loss: 0.6578 - val_accuracy: 0.5067\n",
      "Epoch 4/5\n",
      "2/2 [==============================] - 3s 2s/step - loss: 0.6288 - accuracy: 0.4800 - val_loss: 0.6963 - val_accuracy: 0.5067\n",
      "Epoch 5/5\n",
      "2/2 [==============================] - 3s 2s/step - loss: 0.6500 - accuracy: 0.4800 - val_loss: 0.6267 - val_accuracy: 0.6800\n"
     ]
    },
    {
     "data": {
      "text/plain": [
       "<keras.callbacks.History at 0x25c316c5810>"
      ]
     },
     "execution_count": 65,
     "metadata": {},
     "output_type": "execute_result"
    }
   ],
   "source": [
    "model.add(Flatten())\n",
    "model.fit(X_train,Y_train,batch_size=32,epochs=5, validation_data=(X_test,Y_test))"
   ]
  },
  {
   "cell_type": "code",
   "execution_count": 66,
   "metadata": {},
   "outputs": [
    {
     "data": {
      "text/plain": [
       "<function matplotlib.pyplot.show(close=None, block=None)>"
      ]
     },
     "execution_count": 66,
     "metadata": {},
     "output_type": "execute_result"
    },
    {
     "data": {
      "image/png": "[encoded data removed]",
      "text/plain": [
       "<Figure size 640x480 with 1 Axes>"
      ]
     },
     "metadata": {},
     "output_type": "display_data"
    }
   ],
   "source": [
    "plt.plot(model.history.history['accuracy'],label='Train Accuracy')\n",
    "plt.plot(model.history.history['val_accuracy'],label = 'Test accuracy')\n",
    "plt.legend()\n",
    "plt.show"
   ]
  },
  {
   "cell_type": "code",
   "execution_count": 67,
   "metadata": {},
   "outputs": [
    {
     "data": {
      "image/png": "[encoded data removed]",
      "text/plain": [
       "<Figure size 640x480 with 1 Axes>"
      ]
     },
     "metadata": {},
     "output_type": "display_data"
    }
   ],
   "source": [
    "plt.plot(model.history.history['loss'], label = 'train loss')\n",
    "plt.plot(model.history.history['val_loss'],label = 'test_loss')\n",
    "plt.legend()\n",
    "plt.show()"
   ]
  },
  {
   "cell_type": "code",
   "execution_count": null,
   "metadata": {},
   "outputs": [],
   "source": []
  }
 ],
 "metadata": {
  "accelerator": "GPU",
  "colab": {
   "gpuType": "T4",
   "provenance": []
  },
  "kernelspec": {
   "display_name": "Python 3 (ipykernel)",
   "language": "python",
   "name": "python3"
  },
  "language_info": {
   "codemirror_mode": {
    "name": "ipython",
    "version": 3
   },
   "file_extension": ".py",
   "mimetype": "text/x-python",
   "name": "python",
   "nbconvert_exporter": "python",
   "pygments_lexer": "ipython3",
   "version": "3.11.4"
  }
 },
 "nbformat": 4,
 "nbformat_minor": 1
}
